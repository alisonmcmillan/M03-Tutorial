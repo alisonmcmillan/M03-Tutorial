{
 "cells": [
  {
   "cell_type": "code",
   "execution_count": 2,
   "id": "4a4a9ebe-1c52-45ac-a9bd-adad7592eb89",
   "metadata": {},
   "outputs": [],
   "source": [
    "class Solution:\n",
    "    def sort012(self,arr,n):\n",
    "        low = 0\n",
    "        high = n - 1\n",
    "        mid = 0\n",
    "        \n",
    "        while mid <= high:\n",
    "            \n",
    "            if arr[mid] == 0:\n",
    "                arr[mid], arr[low] = arr[low], arr[mid]\n",
    "                mid += 1\n",
    "                low += 1\n",
    "                \n",
    "            elif arr[mid] == 1:\n",
    "                mid += 1\n",
    "                \n",
    "            else:\n",
    "                arr[mid], arr[high] = arr[high], arr[mid]\n",
    "                high -= 1"
   ]
  },
  {
   "cell_type": "code",
   "execution_count": 12,
   "id": "93887b19-fb72-4589-af93-5a6a35ed78b7",
   "metadata": {},
   "outputs": [],
   "source": [
    "class Solution:\n",
    "    def binarysearch(arr, N, K):\n",
    "        low, high = 0, N - 1\n",
    "        \n",
    "        while low <= high:\n",
    "            mid = (low + high) // 2\n",
    "            \n",
    "            if arr[mid] == K:\n",
    "                return mid\n",
    "            elif arr[mid] < K:\n",
    "                low = mid + 1\n",
    "            else:\n",
    "                high = mid - 1\n",
    "                \n",
    "        return -1"
   ]
  }
 ],
 "metadata": {
  "kernelspec": {
   "display_name": "Python 3 (ipykernel)",
   "language": "python",
   "name": "python3"
  },
  "language_info": {
   "codemirror_mode": {
    "name": "ipython",
    "version": 3
   },
   "file_extension": ".py",
   "mimetype": "text/x-python",
   "name": "python",
   "nbconvert_exporter": "python",
   "pygments_lexer": "ipython3",
   "version": "3.11.7"
  }
 },
 "nbformat": 4,
 "nbformat_minor": 5
}
